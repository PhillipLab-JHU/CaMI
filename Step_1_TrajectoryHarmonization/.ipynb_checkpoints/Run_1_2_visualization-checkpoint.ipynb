{
 "cells": [
  {
   "cell_type": "code",
   "execution_count": 1,
   "id": "318c6644",
   "metadata": {},
   "outputs": [],
   "source": [
    "import numpy as np\n",
    "import pandas as pd\n",
    "import matplotlib.pyplot as plt\n",
    "import seaborn as sns"
   ]
  },
  {
   "cell_type": "code",
   "execution_count": 2,
   "id": "b9e49ab1",
   "metadata": {},
   "outputs": [],
   "source": [
    "import warnings\n",
    "warnings.filterwarnings('ignore')"
   ]
  },
  {
   "cell_type": "markdown",
   "id": "733989ba",
   "metadata": {},
   "source": [
    "# Format plot functions"
   ]
  },
  {
   "cell_type": "code",
   "execution_count": 3,
   "id": "acd84d43",
   "metadata": {},
   "outputs": [],
   "source": [
    "import matplotlib\n",
    "\n",
    "font = {'family' : 'arial',\n",
    "        'weight' : 'normal',\n",
    "        'size'   : 8}\n",
    "\n",
    "matplotlib.rc('font', **font)\n",
    "matplotlib.rcParams['axes.linewidth'] = 0.25\n",
    "matplotlib.rcParams['lines.linewidth'] = 1\n",
    "\n",
    "def format_figure(ax,title=None,xlabel=None,ylabel=None,despine=True,detick=False):\n",
    "    if title != None:\n",
    "        ax.set_title(title  , pad   = 5,fontsize=8)\n",
    "    if xlabel != None:\n",
    "        ax.set_xlabel(xlabel,labelpad = 5,fontsize=8)\n",
    "    if ylabel != None:\n",
    "        ax.set_ylabel(ylabel,labelpad = 5,fontsize=8)  \n",
    "    if despine:\n",
    "        sns.despine()\n",
    "    if detick:\n",
    "        plt.tick_params(left = False, right = False , labelleft = False ,\n",
    "            labelbottom = False, bottom = False)"
   ]
  },
  {
   "cell_type": "markdown",
   "id": "51a7a366",
   "metadata": {},
   "source": [
    "# Visualize example trajectories"
   ]
  },
  {
   "cell_type": "code",
   "execution_count": 150,
   "id": "e4906593",
   "metadata": {},
   "outputs": [
    {
     "data": {
      "image/png": "[encoded data removed]",
      "text/plain": [
       "<Figure size 144x144 with 1 Axes>"
      ]
     },
     "metadata": {},
     "output_type": "display_data"
    }
   ],
   "source": [
    "fig,ax = plt.subplots(figsize=(2,2))\n",
    "col = plt.cm.Paired(np.arange(6))\n",
    "i = 0\n",
    "for n in ['traj_4m','traj_interp_symm','traj_MC_symm']:\n",
    "    traj = pd.read_csv('outputs/run_1_1_Concordance_vs_TemporalResolution-HT1080_2D_'+(n)+'min.csv',\n",
    "               names = [\"cell_id\",\"Time\",\"x\",\"y\"])\n",
    "    traj = traj[traj[\"cell_id\"] == 55]\n",
    "    traj.loc[:,\"resolution\"] = n\n",
    "    ax.plot(traj['x'],traj['y'],'.-',color=col[i],markersize=1,linewidth=0.25)\n",
    "    i+=1\n",
    "format_figure(ax,detick=True)\n",
    "plt.savefig('outputs/run_1_1_0.png',dpi=300)\n",
    "plt.savefig('outputs/run_1_1_0.svg',dpi=300)"
   ]
  },
  {
   "cell_type": "markdown",
   "id": "8a4f698b",
   "metadata": {},
   "source": [
    "# Visualize concordance v. temporal resolution:"
   ]
  },
  {
   "cell_type": "code",
   "execution_count": 3,
   "id": "6abc94a2",
   "metadata": {},
   "outputs": [],
   "source": [
    "concordance = pd.read_csv('outputs/run_1_1_Concordance_vs_TemporalResolution-concordances.csv',\n",
    "                          names = np.arange(2,12+1,2))\n",
    "concordance_long = pd.melt(concordance)"
   ]
  },
  {
   "cell_type": "code",
   "execution_count": 7,
   "id": "30ddce9d",
   "metadata": {
    "scrolled": true
   },
   "outputs": [
    {
     "data": {
      "image/png": "[encoded data removed]",
      "text/plain": [
       "<Figure size 144x144 with 1 Axes>"
      ]
     },
     "metadata": {
      "needs_background": "light"
     },
     "output_type": "display_data"
    }
   ],
   "source": [
    "fig,ax = plt.subplots(figsize=(2,2))\n",
    "matplotlib.rcParams['svg.fonttype'] = 'none'\n",
    "sns.boxplot(x=concordance_long[\"variable\"],y=concordance_long[\"value\"], \n",
    "            color=\"white\",\n",
    "            flierprops=dict(marker='.',markersize=1))\n",
    "sns.stripplot(x=concordance_long[\"variable\"],y=concordance_long[\"value\"],hue=concordance_long[\"variable\"],\n",
    "                size=1, palette = 'Paired',ax=ax)\n",
    "ax.legend_.remove()\n",
    "format_figure(ax,title=\"Concordance v. \\nAcquisition Interval\",\n",
    "              xlabel=\"Acquisition Interval\",ylabel=\"Concordance (px^2)\")\n",
    "plt.savefig('outputs/run_1_1_1.png',dpi=300,bbox_inches=\"tight\")\n",
    "plt.savefig('outputs/run_1_1_1.svg',dpi=300,bbox_inches=\"tight\")"
   ]
  },
  {
   "cell_type": "code",
   "execution_count": 10,
   "id": "08e2cf60",
   "metadata": {},
   "outputs": [
    {
     "data": {
      "text/plain": [
       "KruskalResult(statistic=108.92080650406501, pvalue=6.9268910368206835e-22)"
      ]
     },
     "execution_count": 10,
     "metadata": {},
     "output_type": "execute_result"
    }
   ],
   "source": [
    "import scipy.stats as stats\n",
    "stats.kruskal(concordance.values[:,0],\n",
    "               concordance.values[:,1],\n",
    "               concordance.values[:,2],\n",
    "               concordance.values[:,3],\n",
    "               concordance.values[:,4],\n",
    "               concordance.values[:,5])"
   ]
  },
  {
   "cell_type": "code",
   "execution_count": 11,
   "id": "7ca29ffe",
   "metadata": {},
   "outputs": [
    {
     "data": {
      "text/plain": [
       "WilcoxonResult(statistic=82.0, pvalue=1.3239041164746465e-12)"
      ]
     },
     "execution_count": 11,
     "metadata": {},
     "output_type": "execute_result"
    }
   ],
   "source": [
    "stats.wilcoxon(concordance.values[:,0], concordance.values[:,1])"
   ]
  },
  {
   "cell_type": "code",
   "execution_count": 12,
   "id": "7e9569c5",
   "metadata": {},
   "outputs": [
    {
     "data": {
      "text/plain": [
       "WilcoxonResult(statistic=30.0, pvalue=1.753278834311801e-13)"
      ]
     },
     "execution_count": 12,
     "metadata": {},
     "output_type": "execute_result"
    }
   ],
   "source": [
    "stats.wilcoxon(concordance.values[:,0], concordance.values[:,2])"
   ]
  },
  {
   "cell_type": "code",
   "execution_count": 13,
   "id": "62dcd922",
   "metadata": {},
   "outputs": [
    {
     "data": {
      "text/plain": [
       "WilcoxonResult(statistic=28.0, pvalue=1.6197155063339773e-13)"
      ]
     },
     "execution_count": 13,
     "metadata": {},
     "output_type": "execute_result"
    }
   ],
   "source": [
    "stats.wilcoxon(concordance.values[:,0], concordance.values[:,3])"
   ]
  },
  {
   "cell_type": "code",
   "execution_count": 14,
   "id": "4c5d30d0",
   "metadata": {},
   "outputs": [
    {
     "data": {
      "text/plain": [
       "WilcoxonResult(statistic=22.0, pvalue=1.2761924459375718e-13)"
      ]
     },
     "execution_count": 14,
     "metadata": {},
     "output_type": "execute_result"
    }
   ],
   "source": [
    "stats.wilcoxon(concordance.values[:,0], concordance.values[:,4])"
   ]
  },
  {
   "cell_type": "code",
   "execution_count": 15,
   "id": "d47963e6",
   "metadata": {},
   "outputs": [
    {
     "data": {
      "text/plain": [
       "WilcoxonResult(statistic=25.0, pvalue=1.437907827858155e-13)"
      ]
     },
     "execution_count": 15,
     "metadata": {},
     "output_type": "execute_result"
    }
   ],
   "source": [
    "stats.wilcoxon(concordance.values[:,0], concordance.values[:,5])"
   ]
  },
  {
   "cell_type": "code",
   "execution_count": null,
   "id": "b59e2a16",
   "metadata": {},
   "outputs": [],
   "source": []
  }
 ],
 "metadata": {
  "kernelspec": {
   "display_name": "Python 3 (ipykernel)",
   "language": "python",
   "name": "python3"
  },
  "language_info": {
   "codemirror_mode": {
    "name": "ipython",
    "version": 3
   },
   "file_extension": ".py",
   "mimetype": "text/x-python",
   "name": "python",
   "nbconvert_exporter": "python",
   "pygments_lexer": "ipython3",
   "version": "3.9.13"
  }
 },
 "nbformat": 4,
 "nbformat_minor": 5
}
